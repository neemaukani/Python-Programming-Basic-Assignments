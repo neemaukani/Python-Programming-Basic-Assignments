{
 "cells": [
  {
   "cell_type": "markdown",
   "metadata": {},
   "source": [
    "Question 1: - Why are functions advantageous to have in your programs?\n",
    "Answer: - Functions reduce the need for duplicate code. This makes programs shorter, easier to read, and easier to update. A function call is what moves the program execution into the function, and the function call evaluates to the function's return value."
   ]
  },
  {
   "cell_type": "markdown",
   "metadata": {},
   "source": [
    "Question 2: - When does the code in a function run: when it's specified or when it's called?\n",
    "Answer: - When a function is \"called\" to complete any specific task, the program \"leaves\" the current section of code and begins to execute the first line inside the function. Thus the function \"flow of control\" is:\n",
    "    1.\tThe program comes to a line of code containing a \"function call\".\n",
    "    2.\tThe program enters the function (starts at the first line in the function code).\n",
    "    3.\tAll instructions inside of the function are executed from top to bottom.\n",
    "    4.\tThe program leaves the function and goes back to where it started from.\n",
    "    5.\tAny data computed and RETURNED by the function is used in place of the function in the original line of code."
   ]
  },
  {
   "cell_type": "markdown",
   "metadata": {},
   "source": [
    "Question 3:- What statement creates a function?\n",
    "Answer: - Functions may or may not take parameters and may or may not produce a result. A statement that executes a function. It consists of the name of the function followed by a list of arguments enclosed in parentheses. Using the output from one function call as the input to another."
   ]
  },
  {
   "cell_type": "markdown",
   "metadata": {},
   "source": [
    "Question 4:- What is the difference between a function and a function call?\n",
    "Answer: - A function call means invoking or calling that function. Unless a function is called there is no use of that function. So the difference between the function and function call is, A function is procedure to achieve a particular result while function call is using this function to achieve that task."
   ]
  },
  {
   "cell_type": "markdown",
   "metadata": {},
   "source": [
    "Question 5:- How many global scopes are there in a Python program? How many local scopes?\n",
    "Answer: - There's only one global Python scope per program execution. This scope remains in existence until the program terminates and all its names are forgotten."
   ]
  },
  {
   "cell_type": "markdown",
   "metadata": {},
   "source": [
    "Question 6:- What happens to variables in a local scope when the function call returns?\n",
    "Answer: - A local variable retains its value until the next time the function is called A local variable becomes undefined after the function call completes The local variable can be used outside the function any time after the function call completes."
   ]
  },
  {
   "cell_type": "markdown",
   "metadata": {},
   "source": [
    "Question 7:- What is the concept of a return value? Is it possible to have a return value in an expression?\n",
    "Answer: - A return statement is used to end the execution of the function call and “returns” the result (value of the expression following the return keyword) to the caller. The statements after the return statements are not executed. If the return statement is without any expression, then the special value None is returned."
   ]
  },
  {
   "cell_type": "markdown",
   "metadata": {},
   "source": [
    "Question 8:-  If a function does not have a return statement, what is the return value of a call to that function?\n",
    "Answer: - If expression is omitted, the return value of the function is undefined. If no return statement appears in a function definition, control automatically returns to the calling function after the last statement of the called function is executed. In this case, the return value of the called function is undefined."
   ]
  },
  {
   "cell_type": "markdown",
   "metadata": {},
   "source": [
    "Question 9:- How do you make a function variable refer to the global variable?\n",
    "Answer: - If you want to refer to a global variable in a function, you can use the global keyword to declare which variables are global."
   ]
  },
  {
   "cell_type": "markdown",
   "metadata": {},
   "source": [
    "Question 10:- What is the data type of None?\n",
    "Answer: - The None keyword is used to define a null value, or no value at all. None is not the same as 0, False, or an empty string. None is a data type of its own (NoneType) and only None can be None."
   ]
  },
  {
   "cell_type": "markdown",
   "metadata": {},
   "source": [
    "Question 11:- What does the sentence import areallyourpetsnamederic do?\n",
    "Answer: - A global statement will force a variable in a function to refer to the global variable. The data type of None is NoneType. That import statement imports a module named areallyourpetsnamederic.This function can be called with spam."
   ]
  },
  {
   "cell_type": "markdown",
   "metadata": {},
   "source": [
    "Question 12:-  If you had a bacon() feature in a spam module, what would you call it after importing spam?\n",
    "Answer: - If you had a function named bacon() inside a module named spam, how would you call it after importing spam ? This function can be called with spam.bacon()."
   ]
  },
  {
   "cell_type": "markdown",
   "metadata": {},
   "source": [
    "Question 13:-  What can you do to save a programme from crashing if it encounters an error?\n",
    "Answer: - Prevents program from crashing if an error occurs. If an error occurs in a program, we don't want the program to unexpectedly crash on the user. Instead, error handling can be used to notify the user of why the error occurred and gracefully exit the process that caused the error."
   ]
  },
  {
   "cell_type": "markdown",
   "metadata": {},
   "source": [
    "Question 14:-  What is the purpose of the try clause? What is the purpose of the except clause?\n",
    "Answer: - The try block is used to check some code for errors i.e the code inside the try block will execute when there is no error in the program. Whereas the code inside the except block will execute whenever the program encounters some error in the preceding try block."
   ]
  }
 ],
 "metadata": {
  "kernelspec": {
   "display_name": "Python 3",
   "language": "python",
   "name": "python3"
  },
  "language_info": {
   "codemirror_mode": {
    "name": "ipython",
    "version": 3
   },
   "file_extension": ".py",
   "mimetype": "text/x-python",
   "name": "python",
   "nbconvert_exporter": "python",
   "pygments_lexer": "ipython3",
   "version": "3.8.5"
  }
 },
 "nbformat": 4,
 "nbformat_minor": 4
}
